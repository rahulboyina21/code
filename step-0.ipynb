{
 "cells": [
  {
   "cell_type": "markdown",
   "id": "02d94dea",
   "metadata": {
    "papermill": {
     "duration": 0.003563,
     "end_time": "2025-05-20T03:46:53.712055",
     "exception": false,
     "start_time": "2025-05-20T03:46:53.708492",
     "status": "completed"
    },
    "tags": []
   },
   "source": [
    "# Baby Step 00"
   ]
  },
  {
   "cell_type": "markdown",
   "id": "d964cb28",
   "metadata": {
    "papermill": {
     "duration": 0.003978,
     "end_time": "2025-05-20T03:46:53.719617",
     "exception": false,
     "start_time": "2025-05-20T03:46:53.715639",
     "status": "completed"
    },
    "tags": []
   },
   "source": [
    "-> We need a programe to instruct the computer to execute the action let's just say to display the plain light in this case we can do that with a programe else if you wanna run the whole netflix as well we can do it from your computer if it is powerfull enough still its a progame."
   ]
  },
  {
   "cell_type": "markdown",
   "id": "30d64ce0",
   "metadata": {
    "papermill": {
     "duration": 0.002668,
     "end_time": "2025-05-20T03:46:53.725658",
     "exception": false,
     "start_time": "2025-05-20T03:46:53.722990",
     "status": "completed"
    },
    "tags": []
   },
   "source": [
    "Variables are of \n",
    "1. int x=10\n",
    "2. Float x=1.232323232\n",
    "3. String str = \"Rahul\"\n",
    "4. Boolean flag=True/False\n",
    "Containers can be different forms with different magic powers like sachin cannot be mcgragor vice versa each have own powers.\n",
    "1. List -> Ordered Collection -> items =[1,2,'3']\n",
    "2. Tuple -> Immutable List -> items = (a,b,c) -> THANOS RING ready to snap.\n",
    "3. Dictonary -> {\"A\":1,\"B\":2}\n",
    "4. Set -> Unordered Collection -> S = {1,2,3}"
   ]
  },
  {
   "cell_type": "markdown",
   "id": "798fbef3",
   "metadata": {
    "papermill": {
     "duration": 0.002715,
     "end_time": "2025-05-20T03:46:53.731434",
     "exception": false,
     "start_time": "2025-05-20T03:46:53.728719",
     "status": "completed"
    },
    "tags": []
   },
   "source": [
    "## Implement"
   ]
  },
  {
   "cell_type": "code",
   "execution_count": 1,
   "id": "c14c65d2",
   "metadata": {
    "execution": {
     "iopub.execute_input": "2025-05-20T03:46:53.738777Z",
     "iopub.status.busy": "2025-05-20T03:46:53.738470Z",
     "iopub.status.idle": "2025-05-20T03:46:53.748327Z",
     "shell.execute_reply": "2025-05-20T03:46:53.747322Z"
    },
    "papermill": {
     "duration": 0.015369,
     "end_time": "2025-05-20T03:46:53.749727",
     "exception": false,
     "start_time": "2025-05-20T03:46:53.734358",
     "status": "completed"
    },
    "tags": []
   },
   "outputs": [
    {
     "name": "stdout",
     "output_type": "stream",
     "text": [
      "[21, 1e-06, False, 'Rahul'] \n",
      " {False, 'Rahul', 21, 1e-06} \n",
      " {'Rahul': 21, 1e-06: False} \n",
      " (1, 21, 44, 1e-06, False, 987889, 'Rahul')\n"
     ]
    }
   ],
   "source": [
    "x = 21\n",
    "y = 0.000001\n",
    "z = False\n",
    "\n",
    "name = \"Rahul\"\n",
    "\n",
    "l = [x,y,z,name]\n",
    "s = {x,y,z,name}\n",
    "d = {name:x,y:z}\n",
    "t = (1,x,44,y,z,987889,name)\n",
    "\n",
    "print(l,\"\\n\",s,\"\\n\",d,\"\\n\",t)"
   ]
  },
  {
   "cell_type": "markdown",
   "id": "9b5010f1",
   "metadata": {
    "papermill": {
     "duration": 0.002814,
     "end_time": "2025-05-20T03:46:53.756396",
     "exception": false,
     "start_time": "2025-05-20T03:46:53.753582",
     "status": "completed"
    },
    "tags": []
   },
   "source": [
    "## Let's talk about the scope\n",
    "\n",
    "### Local scope like with in a function cannot go beyond like police in a country cannot go to the other country country is acting like a local scope you know.\n",
    "\n",
    "### Global Scope -> Our PM has a global reach can access all other resources at the global level same goes for the variables as well they can reach and access and be accessed by any other function or other variables in the programe.\n",
    "\n",
    "### Non Local Variable -> Like you are the same person who is the citizen of the one country but when enters into the other country which is present on the same earth you lose that privilage to be called citizen in that country which mean you the same person can only carry that label in some specifc area which mean you are both citizen and foreigner depending on your locaiton.\n",
    "\n",
    "### IMP:\n",
    "### Override = new local variable (outer stays same)\n",
    "### nonlocal = modify the outer variable from inner function"
   ]
  },
  {
   "cell_type": "code",
   "execution_count": 2,
   "id": "86efa4c5",
   "metadata": {
    "execution": {
     "iopub.execute_input": "2025-05-20T03:46:53.763667Z",
     "iopub.status.busy": "2025-05-20T03:46:53.763340Z",
     "iopub.status.idle": "2025-05-20T03:46:53.769582Z",
     "shell.execute_reply": "2025-05-20T03:46:53.768574Z"
    },
    "papermill": {
     "duration": 0.0119,
     "end_time": "2025-05-20T03:46:53.771300",
     "exception": false,
     "start_time": "2025-05-20T03:46:53.759400",
     "status": "completed"
    },
    "tags": []
   },
   "outputs": [
    {
     "name": "stdout",
     "output_type": "stream",
     "text": [
      "Rahul\n",
      "Outside\n",
      "Inside\n"
     ]
    }
   ],
   "source": [
    "# local\n",
    "def func():\n",
    "    x = \"Y\"\n",
    "\n",
    "# Global\n",
    "x= \"Rahul\"\n",
    "def func1():\n",
    "    print(x)\n",
    "\n",
    "# Non Local Varible \n",
    "\n",
    "def funca():\n",
    "    x=\"Outside\"\n",
    "    print(x)\n",
    "    def funcb():\n",
    "        nonlocal x\n",
    "        x=\"Inside\"\n",
    "        print(x)\n",
    "    funcb()\n",
    "\n",
    "func()\n",
    "func1()\n",
    "funca()"
   ]
  },
  {
   "cell_type": "markdown",
   "id": "c9beb0fb",
   "metadata": {
    "papermill": {
     "duration": 0.003007,
     "end_time": "2025-05-20T03:46:53.777595",
     "exception": false,
     "start_time": "2025-05-20T03:46:53.774588",
     "status": "completed"
    },
    "tags": []
   },
   "source": [
    "## If Else\n",
    "\n",
    "Syntax is like\n",
    "\n",
    "if Condition:\n",
    "    stmt\n",
    "elif Conditon:\n",
    "    stmt\n",
    "else:\n",
    "    stmt\n",
    "\n",
    "## Conditions use ==, !=, >, <, >=, <=\n",
    "\n",
    "## Use and, or, not for combining conditions\n"
   ]
  },
  {
   "cell_type": "code",
   "execution_count": 3,
   "id": "1bbe11a6",
   "metadata": {
    "execution": {
     "iopub.execute_input": "2025-05-20T03:46:53.785610Z",
     "iopub.status.busy": "2025-05-20T03:46:53.785290Z",
     "iopub.status.idle": "2025-05-20T03:46:53.790881Z",
     "shell.execute_reply": "2025-05-20T03:46:53.789666Z"
    },
    "papermill": {
     "duration": 0.011352,
     "end_time": "2025-05-20T03:46:53.792574",
     "exception": false,
     "start_time": "2025-05-20T03:46:53.781222",
     "status": "completed"
    },
    "tags": []
   },
   "outputs": [
    {
     "name": "stdout",
     "output_type": "stream",
     "text": [
      "hey\n"
     ]
    }
   ],
   "source": [
    "x =2\n",
    "y= 3\n",
    "\n",
    "if x<2 or y==3:\n",
    "    print(\"hey\")\n",
    "else:\n",
    "    print(\"Ayyy yooo\")"
   ]
  },
  {
   "cell_type": "markdown",
   "id": "858c56d0",
   "metadata": {
    "papermill": {
     "duration": 0.002921,
     "end_time": "2025-05-20T03:46:53.798876",
     "exception": false,
     "start_time": "2025-05-20T03:46:53.795955",
     "status": "completed"
    },
    "tags": []
   },
   "source": [
    "## Loops Real Deal\n",
    "\n",
    "### Simple -> For Loop / While Loop\n",
    "\n",
    "### We use range(start,end(optional),step(optional)) to determine what should be the range we should be traversing.\n",
    "\n",
    "Break -> to break the loop\n",
    "continue -> skip the iteration\n",
    "pass -> do nothing just place holder like complex logic some element skip\n",
    "\n",
    "### while condition:\n"
   ]
  },
  {
   "cell_type": "code",
   "execution_count": 4,
   "id": "c1138538",
   "metadata": {
    "execution": {
     "iopub.execute_input": "2025-05-20T03:46:53.806641Z",
     "iopub.status.busy": "2025-05-20T03:46:53.806336Z",
     "iopub.status.idle": "2025-05-20T03:46:53.811544Z",
     "shell.execute_reply": "2025-05-20T03:46:53.810564Z"
    },
    "papermill": {
     "duration": 0.010824,
     "end_time": "2025-05-20T03:46:53.812993",
     "exception": false,
     "start_time": "2025-05-20T03:46:53.802169",
     "status": "completed"
    },
    "tags": []
   },
   "outputs": [
    {
     "name": "stdout",
     "output_type": "stream",
     "text": [
      "0 \t\n",
      "79 \t\n",
      "158 \t\n",
      "237 \t\n",
      "316 \t\n",
      "395 \t\n",
      "474 \t\n",
      "553 \t\n",
      "632 \t\n",
      "711 \t\n",
      "790 \t\n",
      "869 \t\n",
      "948 \t\n",
      "a\n",
      "1\n",
      "c\n",
      "DEFINE\n"
     ]
    }
   ],
   "source": [
    "for i in range(0,1000,79):\n",
    "    print(i,\"\\t\")\n",
    "\n",
    "for i in [\"a\",1,\"c\",\"DEFINE\"]:\n",
    "    print(i)"
   ]
  },
  {
   "cell_type": "code",
   "execution_count": 5,
   "id": "460ba66a",
   "metadata": {
    "execution": {
     "iopub.execute_input": "2025-05-20T03:46:53.821029Z",
     "iopub.status.busy": "2025-05-20T03:46:53.820696Z",
     "iopub.status.idle": "2025-05-20T03:46:53.826002Z",
     "shell.execute_reply": "2025-05-20T03:46:53.824754Z"
    },
    "papermill": {
     "duration": 0.011237,
     "end_time": "2025-05-20T03:46:53.827688",
     "exception": false,
     "start_time": "2025-05-20T03:46:53.816451",
     "status": "completed"
    },
    "tags": []
   },
   "outputs": [
    {
     "name": "stdout",
     "output_type": "stream",
     "text": [
      "-1\n",
      "0\n",
      "1\n",
      "2\n",
      "3\n",
      "4\n",
      "5\n",
      "6\n",
      "7\n",
      "8\n",
      "9\n",
      "10\n"
     ]
    }
   ],
   "source": [
    "i=-1\n",
    "while i<=10:\n",
    "    print(i)\n",
    "    i+=1"
   ]
  },
  {
   "cell_type": "markdown",
   "id": "37e91d96",
   "metadata": {
    "papermill": {
     "duration": 0.003079,
     "end_time": "2025-05-20T03:46:53.834317",
     "exception": false,
     "start_time": "2025-05-20T03:46:53.831238",
     "status": "completed"
    },
    "tags": []
   },
   "source": [
    "# Problems "
   ]
  },
  {
   "cell_type": "code",
   "execution_count": 6,
   "id": "f4442c9c",
   "metadata": {
    "execution": {
     "iopub.execute_input": "2025-05-20T03:46:53.842260Z",
     "iopub.status.busy": "2025-05-20T03:46:53.841937Z",
     "iopub.status.idle": "2025-05-20T03:46:53.848982Z",
     "shell.execute_reply": "2025-05-20T03:46:53.847788Z"
    },
    "papermill": {
     "duration": 0.012937,
     "end_time": "2025-05-20T03:46:53.850580",
     "exception": false,
     "start_time": "2025-05-20T03:46:53.837643",
     "status": "completed"
    },
    "tags": []
   },
   "outputs": [
    {
     "name": "stdout",
     "output_type": "stream",
     "text": [
      "1\n",
      "3\n",
      "5\n",
      "7\n",
      "9\n",
      "11\n",
      "13\n",
      "15\n",
      "17\n",
      "19\n",
      "21\n",
      "23\n",
      "25\n",
      "27\n",
      "29\n",
      "31\n",
      "33\n",
      "35\n",
      "37\n",
      "39\n",
      "41\n",
      "43\n",
      "45\n",
      "47\n",
      "49\n",
      "51\n",
      "53\n",
      "55\n",
      "57\n",
      "59\n",
      "61\n",
      "63\n",
      "65\n",
      "67\n",
      "69\n",
      "71\n",
      "73\n",
      "75\n",
      "77\n",
      "79\n",
      "81\n",
      "83\n",
      "85\n",
      "87\n",
      "89\n",
      "91\n",
      "93\n",
      "95\n",
      "97\n",
      "99\n",
      "101\n",
      "103\n",
      "105\n",
      "107\n",
      "109\n",
      "111\n",
      "113\n",
      "115\n",
      "117\n",
      "119\n",
      "121\n",
      "123\n",
      "125\n",
      "127\n",
      "129\n",
      "131\n",
      "133\n",
      "135\n",
      "137\n",
      "139\n",
      "141\n",
      "143\n",
      "145\n",
      "147\n",
      "149\n",
      "151\n",
      "153\n",
      "155\n",
      "157\n",
      "159\n",
      "161\n",
      "163\n",
      "165\n",
      "167\n",
      "169\n",
      "171\n",
      "173\n",
      "175\n",
      "177\n",
      "179\n",
      "181\n",
      "183\n",
      "185\n",
      "187\n",
      "189\n",
      "191\n",
      "193\n",
      "195\n",
      "197\n",
      "199\n",
      "201\n",
      "203\n",
      "205\n",
      "207\n",
      "209\n",
      "211\n",
      "213\n",
      "215\n",
      "217\n",
      "219\n",
      "221\n",
      "223\n",
      "225\n",
      "227\n",
      "229\n",
      "231\n",
      "233\n",
      "235\n",
      "237\n",
      "239\n",
      "241\n",
      "243\n",
      "245\n",
      "247\n",
      "249\n",
      "251\n",
      "253\n",
      "255\n",
      "257\n",
      "259\n",
      "261\n",
      "263\n",
      "265\n",
      "267\n",
      "269\n",
      "271\n",
      "273\n",
      "275\n",
      "277\n",
      "279\n",
      "281\n",
      "283\n",
      "285\n",
      "287\n",
      "289\n",
      "291\n",
      "293\n",
      "295\n",
      "297\n",
      "299\n",
      "2\n",
      "4\n",
      "6\n",
      "8\n",
      "10\n",
      "12\n",
      "14\n",
      "16\n",
      "18\n",
      "20\n",
      "22\n",
      "24\n",
      "26\n",
      "28\n",
      "30\n",
      "32\n",
      "34\n",
      "36\n",
      "38\n",
      "40\n",
      "42\n",
      "44\n",
      "46\n",
      "48\n",
      "50\n",
      "52\n",
      "54\n",
      "56\n",
      "58\n",
      "60\n",
      "62\n",
      "64\n",
      "66\n",
      "68\n",
      "70\n",
      "72\n",
      "74\n",
      "76\n",
      "78\n",
      "80\n",
      "82\n",
      "84\n",
      "86\n",
      "88\n",
      "90\n",
      "92\n",
      "94\n",
      "96\n",
      "98\n",
      "100\n",
      "102\n",
      "104\n",
      "106\n",
      "108\n",
      "110\n",
      "112\n",
      "114\n",
      "116\n",
      "118\n",
      "120\n",
      "122\n",
      "124\n",
      "126\n",
      "128\n",
      "130\n",
      "132\n",
      "134\n",
      "136\n",
      "138\n",
      "140\n",
      "142\n",
      "144\n",
      "146\n",
      "148\n",
      "150\n",
      "152\n",
      "154\n",
      "156\n",
      "158\n",
      "160\n",
      "162\n",
      "164\n",
      "166\n",
      "168\n",
      "170\n",
      "172\n",
      "174\n",
      "176\n",
      "178\n",
      "180\n",
      "182\n",
      "184\n",
      "186\n",
      "188\n",
      "190\n",
      "192\n",
      "194\n",
      "196\n",
      "198\n",
      "200\n",
      "202\n",
      "204\n",
      "206\n",
      "208\n",
      "210\n",
      "212\n",
      "214\n",
      "216\n",
      "218\n",
      "220\n",
      "222\n",
      "224\n",
      "226\n",
      "228\n",
      "230\n",
      "232\n",
      "234\n",
      "236\n",
      "238\n",
      "240\n",
      "242\n",
      "244\n",
      "246\n",
      "248\n",
      "250\n",
      "252\n",
      "254\n",
      "256\n",
      "258\n",
      "260\n",
      "262\n",
      "264\n",
      "266\n",
      "268\n",
      "270\n",
      "272\n",
      "274\n",
      "276\n",
      "278\n",
      "280\n",
      "282\n",
      "284\n",
      "286\n",
      "288\n",
      "290\n",
      "292\n",
      "294\n",
      "296\n",
      "298\n"
     ]
    }
   ],
   "source": [
    "# Print all the even numbers\n",
    "ip = 300\n",
    "# input(\"What's the range\")\n",
    "for i in range(1,int(ip),2):\n",
    "    print(i)\n",
    "# Print all the odd numbers\n",
    "for i in range(2,int(ip),2):\n",
    "    print(i)\n",
    "# Also can use the %2==0 function as well"
   ]
  },
  {
   "cell_type": "code",
   "execution_count": 7,
   "id": "6e50657b",
   "metadata": {
    "execution": {
     "iopub.execute_input": "2025-05-20T03:46:53.859578Z",
     "iopub.status.busy": "2025-05-20T03:46:53.859288Z",
     "iopub.status.idle": "2025-05-20T03:46:53.865628Z",
     "shell.execute_reply": "2025-05-20T03:46:53.864575Z"
    },
    "papermill": {
     "duration": 0.012325,
     "end_time": "2025-05-20T03:46:53.867305",
     "exception": false,
     "start_time": "2025-05-20T03:46:53.854980",
     "status": "completed"
    },
    "tags": []
   },
   "outputs": [
    {
     "name": "stdout",
     "output_type": "stream",
     "text": [
      "0\n",
      "3\n",
      "6\n",
      "9\n",
      "12\n",
      "15\n",
      "18\n",
      "21\n",
      "24\n",
      "27\n",
      "30\n",
      "33\n",
      "36\n",
      "39\n",
      "42\n",
      "45\n",
      "48\n",
      "51\n",
      "54\n",
      "57\n",
      "60\n",
      "63\n",
      "66\n",
      "69\n",
      "72\n",
      "75\n",
      "78\n",
      "81\n",
      "84\n",
      "87\n",
      "90\n",
      "93\n",
      "96\n",
      "99\n",
      "102\n",
      "105\n",
      "108\n",
      "111\n",
      "114\n",
      "117\n",
      "120\n",
      "123\n",
      "126\n",
      "129\n",
      "132\n",
      "135\n",
      "138\n",
      "141\n",
      "144\n",
      "147\n",
      "150\n",
      "153\n",
      "156\n",
      "159\n",
      "162\n",
      "165\n",
      "168\n",
      "171\n",
      "174\n",
      "177\n",
      "180\n",
      "183\n",
      "186\n",
      "189\n",
      "192\n",
      "195\n",
      "198\n",
      "201\n",
      "204\n",
      "207\n",
      "210\n",
      "213\n",
      "216\n",
      "219\n",
      "222\n",
      "225\n",
      "228\n",
      "231\n",
      "234\n",
      "237\n",
      "240\n",
      "243\n",
      "246\n",
      "249\n",
      "252\n",
      "255\n",
      "258\n",
      "261\n",
      "264\n",
      "267\n",
      "270\n",
      "273\n",
      "276\n",
      "279\n",
      "282\n",
      "285\n",
      "288\n",
      "291\n",
      "294\n",
      "297\n",
      "[0, 3, 6, 9, 12, 15, 18, 21, 24, 27, 30, 33, 36, 39, 42, 45, 48, 51, 54, 57, 60, 63, 66, 69, 72, 75, 78, 81, 84, 87, 90, 93, 96, 99, 102, 105, 108, 111, 114, 117, 120, 123, 126, 129, 132, 135, 138, 141, 144, 147, 150, 153, 156, 159, 162, 165, 168, 171, 174, 177, 180, 183, 186, 189, 192, 195, 198, 201, 204, 207, 210, 213, 216, 219, 222, 225, 228, 231, 234, 237, 240, 243, 246, 249, 252, 255, 258, 261, 264, 267, 270, 273, 276, 279, 282, 285, 288, 291, 294, 297]\n"
     ]
    }
   ],
   "source": [
    "# Divisible by 3\n",
    "\n",
    "x=300\n",
    "# int(input(\"Range please\"))\n",
    "li = []\n",
    "for i in range(x):\n",
    "    if i%3==0:\n",
    "        print(i)\n",
    "        li.append(i)\n",
    "print(li)"
   ]
  },
  {
   "cell_type": "markdown",
   "id": "8dbf897d",
   "metadata": {
    "papermill": {
     "duration": 0.00325,
     "end_time": "2025-05-20T03:46:53.874434",
     "exception": false,
     "start_time": "2025-05-20T03:46:53.871184",
     "status": "completed"
    },
    "tags": []
   },
   "source": [
    "# Cheat Sheet\n",
    "\n",
    "| Method         | Description                           | Example                          |\n",
    "|----------------|---------------------------------------|----------------------------------|\n",
    "| `append()`     | Add item at the end                   | `lst.append(10)`                |\n",
    "| `extend()`     | Add multiple items                    | `lst.extend([1, 2, 3])`         |\n",
    "| `insert()`     | Insert item at specific index         | `lst.insert(1, \"apple\")`        |\n",
    "| `remove()`     | Remove item by value                  | `lst.remove(\"apple\")`           |\n",
    "| `pop()`        | Remove item by index (default last)   | `lst.pop()` or `lst.pop(0)`     |\n",
    "| `clear()`      | Remove all items                      | `lst.clear()`                   |\n",
    "| `index()`      | Get index of item                     | `lst.index(\"apple\")`            |\n",
    "| `count()`      | Count how many times item appears     | `lst.count(\"apple\")`            |\n",
    "| `sort()`       | Sort list in ascending order          | `lst.sort()`                    |\n",
    "| `reverse()`    | Reverse the list                      | `lst.reverse()`                 |\n",
    "| `copy()`       | Make a copy of the list               | `new_list = lst.copy()`         |\n",
    "\n",
    "---\n",
    "\n"
   ]
  }
 ],
 "metadata": {
  "kaggle": {
   "accelerator": "none",
   "dataSources": [],
   "dockerImageVersionId": 31040,
   "isGpuEnabled": false,
   "isInternetEnabled": true,
   "language": "python",
   "sourceType": "notebook"
  },
  "kernelspec": {
   "display_name": "Python 3",
   "language": "python",
   "name": "python3"
  },
  "language_info": {
   "codemirror_mode": {
    "name": "ipython",
    "version": 3
   },
   "file_extension": ".py",
   "mimetype": "text/x-python",
   "name": "python",
   "nbconvert_exporter": "python",
   "pygments_lexer": "ipython3",
   "version": "3.11.11"
  },
  "papermill": {
   "default_parameters": {},
   "duration": 5.844483,
   "end_time": "2025-05-20T03:46:54.299244",
   "environment_variables": {},
   "exception": null,
   "input_path": "__notebook__.ipynb",
   "output_path": "__notebook__.ipynb",
   "parameters": {},
   "start_time": "2025-05-20T03:46:48.454761",
   "version": "2.6.0"
  }
 },
 "nbformat": 4,
 "nbformat_minor": 5
}
