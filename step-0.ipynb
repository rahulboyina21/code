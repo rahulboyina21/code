{
 "cells": [
  {
   "cell_type": "markdown",
   "id": "070bf8f7",
   "metadata": {
    "papermill": {
     "duration": 0.003209,
     "end_time": "2025-05-20T03:33:08.662451",
     "exception": false,
     "start_time": "2025-05-20T03:33:08.659242",
     "status": "completed"
    },
    "tags": []
   },
   "source": [
    "# Baby Step 00"
   ]
  },
  {
   "cell_type": "markdown",
   "id": "81f719f3",
   "metadata": {
    "papermill": {
     "duration": 0.002221,
     "end_time": "2025-05-20T03:33:08.667636",
     "exception": false,
     "start_time": "2025-05-20T03:33:08.665415",
     "status": "completed"
    },
    "tags": []
   },
   "source": [
    "-> We need a programe to instruct the computer to execute the action let's just say to display the plain light in this case we can do that with a programe else if you wanna run the whole netflix as well we can do it from your computer if it is powerfull enough still its a progame."
   ]
  },
  {
   "cell_type": "markdown",
   "id": "fa0854b7",
   "metadata": {
    "papermill": {
     "duration": 0.002158,
     "end_time": "2025-05-20T03:33:08.672255",
     "exception": false,
     "start_time": "2025-05-20T03:33:08.670097",
     "status": "completed"
    },
    "tags": []
   },
   "source": [
    "Variables are of \n",
    "1. int x=10\n",
    "2. Float x=1.232323232\n",
    "3. String str = \"Rahul\"\n",
    "4. Boolean flag=True/False\n",
    "Containers can be different forms with different magic powers like sachin cannot be mcgragor vice versa each have own powers.\n",
    "1. List -> Ordered Collection -> items =[1,2,'3']\n",
    "2. Tuple -> Immutable List -> items = (a,b,c) -> THANOS RING ready to snap.\n",
    "3. Dictonary -> {\"A\":1,\"B\":2}\n",
    "4. Set -> Unordered Collection -> S = {1,2,3}"
   ]
  },
  {
   "cell_type": "markdown",
   "id": "168bec4d",
   "metadata": {
    "papermill": {
     "duration": 0.002159,
     "end_time": "2025-05-20T03:33:08.676789",
     "exception": false,
     "start_time": "2025-05-20T03:33:08.674630",
     "status": "completed"
    },
    "tags": []
   },
   "source": [
    "## Implement"
   ]
  },
  {
   "cell_type": "code",
   "execution_count": 1,
   "id": "74a6cfda",
   "metadata": {
    "execution": {
     "iopub.execute_input": "2025-05-20T03:33:08.682882Z",
     "iopub.status.busy": "2025-05-20T03:33:08.682537Z",
     "iopub.status.idle": "2025-05-20T03:33:08.692735Z",
     "shell.execute_reply": "2025-05-20T03:33:08.691672Z"
    },
    "papermill": {
     "duration": 0.015188,
     "end_time": "2025-05-20T03:33:08.694410",
     "exception": false,
     "start_time": "2025-05-20T03:33:08.679222",
     "status": "completed"
    },
    "tags": []
   },
   "outputs": [
    {
     "name": "stdout",
     "output_type": "stream",
     "text": [
      "[21, 1e-06, False, 'Rahul'] \n",
      " {False, 'Rahul', 21, 1e-06} \n",
      " {'Rahul': 21, 1e-06: False} \n",
      " (1, 21, 44, 1e-06, False, 987889, 'Rahul')\n"
     ]
    }
   ],
   "source": [
    "x = 21\n",
    "y = 0.000001\n",
    "z = False\n",
    "\n",
    "name = \"Rahul\"\n",
    "\n",
    "l = [x,y,z,name]\n",
    "s = {x,y,z,name}\n",
    "d = {name:x,y:z}\n",
    "t = (1,x,44,y,z,987889,name)\n",
    "\n",
    "print(l,\"\\n\",s,\"\\n\",d,\"\\n\",t)"
   ]
  },
  {
   "cell_type": "markdown",
   "id": "b04ffd4d",
   "metadata": {
    "papermill": {
     "duration": 0.002614,
     "end_time": "2025-05-20T03:33:08.699923",
     "exception": false,
     "start_time": "2025-05-20T03:33:08.697309",
     "status": "completed"
    },
    "tags": []
   },
   "source": [
    "## Let's talk about the scope\n",
    "\n",
    "### Local scope like with in a function cannot go beyond like police in a country cannot go to the other country country is acting like a local scope you know.\n",
    "\n",
    "### Global Scope -> Our PM has a global reach can access all other resources at the global level same goes for the variables as well they can reach and access and be accessed by any other function or other variables in the programe.\n",
    "\n",
    "### Non Local Variable -> Like you are the same person who is the citizen of the one country but when enters into the other country which is present on the same earth you lose that privilage to be called citizen in that country which mean you the same person can only carry that label in some specifc area which mean you are both citizen and foreigner depending on your locaiton.\n",
    "\n",
    "### IMP:\n",
    "### Override = new local variable (outer stays same)\n",
    "### nonlocal = modify the outer variable from inner function"
   ]
  },
  {
   "cell_type": "code",
   "execution_count": 2,
   "id": "49b2cf6e",
   "metadata": {
    "execution": {
     "iopub.execute_input": "2025-05-20T03:33:08.706492Z",
     "iopub.status.busy": "2025-05-20T03:33:08.706169Z",
     "iopub.status.idle": "2025-05-20T03:33:08.712745Z",
     "shell.execute_reply": "2025-05-20T03:33:08.711294Z"
    },
    "papermill": {
     "duration": 0.011864,
     "end_time": "2025-05-20T03:33:08.714416",
     "exception": false,
     "start_time": "2025-05-20T03:33:08.702552",
     "status": "completed"
    },
    "tags": []
   },
   "outputs": [
    {
     "name": "stdout",
     "output_type": "stream",
     "text": [
      "Rahul\n",
      "Outside\n",
      "Inside\n"
     ]
    }
   ],
   "source": [
    "# local\n",
    "def func():\n",
    "    x = \"Y\"\n",
    "\n",
    "# Global\n",
    "x= \"Rahul\"\n",
    "def func1():\n",
    "    print(x)\n",
    "\n",
    "# Non Local Varible \n",
    "\n",
    "def funca():\n",
    "    x=\"Outside\"\n",
    "    print(x)\n",
    "    def funcb():\n",
    "        nonlocal x\n",
    "        x=\"Inside\"\n",
    "        print(x)\n",
    "    funcb()\n",
    "\n",
    "func()\n",
    "func1()\n",
    "funca()"
   ]
  },
  {
   "cell_type": "markdown",
   "id": "ba233ed3",
   "metadata": {
    "papermill": {
     "duration": 0.002591,
     "end_time": "2025-05-20T03:33:08.719968",
     "exception": false,
     "start_time": "2025-05-20T03:33:08.717377",
     "status": "completed"
    },
    "tags": []
   },
   "source": [
    "## If Else\n",
    "\n",
    "Syntax is like\n",
    "\n",
    "if Condition:\n",
    "    stmt\n",
    "elif Conditon:\n",
    "    stmt\n",
    "else:\n",
    "    stmt\n",
    "\n",
    "## Conditions use ==, !=, >, <, >=, <=\n",
    "\n",
    "## Use and, or, not for combining conditions\n"
   ]
  },
  {
   "cell_type": "code",
   "execution_count": 3,
   "id": "f959b20d",
   "metadata": {
    "execution": {
     "iopub.execute_input": "2025-05-20T03:33:08.726872Z",
     "iopub.status.busy": "2025-05-20T03:33:08.726548Z",
     "iopub.status.idle": "2025-05-20T03:33:08.732019Z",
     "shell.execute_reply": "2025-05-20T03:33:08.731060Z"
    },
    "papermill": {
     "duration": 0.010486,
     "end_time": "2025-05-20T03:33:08.733503",
     "exception": false,
     "start_time": "2025-05-20T03:33:08.723017",
     "status": "completed"
    },
    "tags": []
   },
   "outputs": [
    {
     "name": "stdout",
     "output_type": "stream",
     "text": [
      "hey\n"
     ]
    }
   ],
   "source": [
    "x =2\n",
    "y= 3\n",
    "\n",
    "if x<2 or y==3:\n",
    "    print(\"hey\")\n",
    "else:\n",
    "    print(\"Ayyy yooo\")"
   ]
  },
  {
   "cell_type": "markdown",
   "id": "fb393260",
   "metadata": {
    "papermill": {
     "duration": 0.002588,
     "end_time": "2025-05-20T03:33:08.738955",
     "exception": false,
     "start_time": "2025-05-20T03:33:08.736367",
     "status": "completed"
    },
    "tags": []
   },
   "source": [
    "## Loops Real Deal\n",
    "\n",
    "### Simple -> For Loop / While Loop\n",
    "\n",
    "### We use range(start,end(optional),step(optional)) to determine what should be the range we should be traversing.\n",
    "\n",
    "Break -> to break the loop\n",
    "continue -> skip the iteration\n",
    "pass -> do nothing just place holder like complex logic some element skip\n",
    "\n",
    "### while condition:\n"
   ]
  },
  {
   "cell_type": "code",
   "execution_count": 4,
   "id": "768167ea",
   "metadata": {
    "execution": {
     "iopub.execute_input": "2025-05-20T03:33:08.745340Z",
     "iopub.status.busy": "2025-05-20T03:33:08.745055Z",
     "iopub.status.idle": "2025-05-20T03:33:08.750792Z",
     "shell.execute_reply": "2025-05-20T03:33:08.749767Z"
    },
    "papermill": {
     "duration": 0.010941,
     "end_time": "2025-05-20T03:33:08.752465",
     "exception": false,
     "start_time": "2025-05-20T03:33:08.741524",
     "status": "completed"
    },
    "tags": []
   },
   "outputs": [
    {
     "name": "stdout",
     "output_type": "stream",
     "text": [
      "0 \t\n",
      "79 \t\n",
      "158 \t\n",
      "237 \t\n",
      "316 \t\n",
      "395 \t\n",
      "474 \t\n",
      "553 \t\n",
      "632 \t\n",
      "711 \t\n",
      "790 \t\n",
      "869 \t\n",
      "948 \t\n",
      "a\n",
      "1\n",
      "c\n",
      "DEFINE\n"
     ]
    }
   ],
   "source": [
    "for i in range(0,1000,79):\n",
    "    print(i,\"\\t\")\n",
    "\n",
    "for i in [\"a\",1,\"c\",\"DEFINE\"]:\n",
    "    print(i)"
   ]
  },
  {
   "cell_type": "code",
   "execution_count": 5,
   "id": "050c0a99",
   "metadata": {
    "execution": {
     "iopub.execute_input": "2025-05-20T03:33:08.759413Z",
     "iopub.status.busy": "2025-05-20T03:33:08.759106Z",
     "iopub.status.idle": "2025-05-20T03:33:08.763962Z",
     "shell.execute_reply": "2025-05-20T03:33:08.763035Z"
    },
    "papermill": {
     "duration": 0.01002,
     "end_time": "2025-05-20T03:33:08.765384",
     "exception": false,
     "start_time": "2025-05-20T03:33:08.755364",
     "status": "completed"
    },
    "tags": []
   },
   "outputs": [
    {
     "name": "stdout",
     "output_type": "stream",
     "text": [
      "-1\n",
      "0\n",
      "1\n",
      "2\n",
      "3\n",
      "4\n",
      "5\n",
      "6\n",
      "7\n",
      "8\n",
      "9\n",
      "10\n"
     ]
    }
   ],
   "source": [
    "i=-1\n",
    "while i<=10:\n",
    "    print(i)\n",
    "    i+=1"
   ]
  },
  {
   "cell_type": "markdown",
   "id": "a72271d7",
   "metadata": {
    "papermill": {
     "duration": 0.002558,
     "end_time": "2025-05-20T03:33:08.771032",
     "exception": false,
     "start_time": "2025-05-20T03:33:08.768474",
     "status": "completed"
    },
    "tags": []
   },
   "source": [
    "# Problems "
   ]
  }
 ],
 "metadata": {
  "kaggle": {
   "accelerator": "none",
   "dataSources": [],
   "dockerImageVersionId": 31040,
   "isGpuEnabled": false,
   "isInternetEnabled": true,
   "language": "python",
   "sourceType": "notebook"
  },
  "kernelspec": {
   "display_name": "Python 3",
   "language": "python",
   "name": "python3"
  },
  "language_info": {
   "codemirror_mode": {
    "name": "ipython",
    "version": 3
   },
   "file_extension": ".py",
   "mimetype": "text/x-python",
   "name": "python",
   "nbconvert_exporter": "python",
   "pygments_lexer": "ipython3",
   "version": "3.11.11"
  },
  "papermill": {
   "default_parameters": {},
   "duration": 5.924244,
   "end_time": "2025-05-20T03:33:09.193656",
   "environment_variables": {},
   "exception": null,
   "input_path": "__notebook__.ipynb",
   "output_path": "__notebook__.ipynb",
   "parameters": {},
   "start_time": "2025-05-20T03:33:03.269412",
   "version": "2.6.0"
  }
 },
 "nbformat": 4,
 "nbformat_minor": 5
}
