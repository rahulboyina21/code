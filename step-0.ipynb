{
 "cells": [
  {
   "cell_type": "markdown",
   "id": "4187d216",
   "metadata": {
    "papermill": {
     "duration": 0.002162,
     "end_time": "2025-05-20T02:46:30.312561",
     "exception": false,
     "start_time": "2025-05-20T02:46:30.310399",
     "status": "completed"
    },
    "tags": []
   },
   "source": [
    "# Baby Step 00"
   ]
  },
  {
   "cell_type": "markdown",
   "id": "395944eb",
   "metadata": {
    "papermill": {
     "duration": 0.001174,
     "end_time": "2025-05-20T02:46:30.315512",
     "exception": false,
     "start_time": "2025-05-20T02:46:30.314338",
     "status": "completed"
    },
    "tags": []
   },
   "source": [
    "-> We need a programe to instruct the computer to execute the action let's just say to display the plain light in this case we can do that with a programe else if you wanna run the whole netflix as well we can do it from your computer if it is powerfull enough still its a progame."
   ]
  },
  {
   "cell_type": "markdown",
   "id": "c406fb6f",
   "metadata": {
    "papermill": {
     "duration": 0.001125,
     "end_time": "2025-05-20T02:46:30.318175",
     "exception": false,
     "start_time": "2025-05-20T02:46:30.317050",
     "status": "completed"
    },
    "tags": []
   },
   "source": [
    "Variables are of \n",
    "1. int x=10\n",
    "2. Float x=1.232323232\n",
    "3. String str = \"Rahul\"\n",
    "4. Boolean flag=True/False\n",
    "Containers can be different forms with different magic powers like sachin cannot be mcgragor vice versa each have own powers.\n",
    "1. List -> Ordered Collection -> items =[1,2,'3']\n",
    "2. Tuple -> Immutable List -> items = (a,b,c) -> THANOS RING ready to snap.\n",
    "3. Dictonary -> {\"A\":1,\"B\":2}\n",
    "4. Set -> Unordered Collection -> S = {1,2,3}"
   ]
  },
  {
   "cell_type": "code",
   "execution_count": null,
   "id": "1519e414",
   "metadata": {
    "_cell_guid": "b1076dfc-b9ad-4769-8c92-a6c4dae69d19",
    "_uuid": "8f2839f25d086af736a60e9eeb907d3b93b6e0e5",
    "papermill": {
     "duration": 0.001087,
     "end_time": "2025-05-20T02:46:30.320571",
     "exception": false,
     "start_time": "2025-05-20T02:46:30.319484",
     "status": "completed"
    },
    "tags": []
   },
   "outputs": [],
   "source": []
  }
 ],
 "metadata": {
  "kaggle": {
   "accelerator": "none",
   "dataSources": [],
   "dockerImageVersionId": 31040,
   "isGpuEnabled": false,
   "isInternetEnabled": true,
   "language": "python",
   "sourceType": "notebook"
  },
  "kernelspec": {
   "display_name": "Python 3",
   "language": "python",
   "name": "python3"
  },
  "language_info": {
   "codemirror_mode": {
    "name": "ipython",
    "version": 3
   },
   "file_extension": ".py",
   "mimetype": "text/x-python",
   "name": "python",
   "nbconvert_exporter": "python",
   "pygments_lexer": "ipython3",
   "version": "3.11.11"
  },
  "papermill": {
   "default_parameters": {},
   "duration": 6.782573,
   "end_time": "2025-05-20T02:46:30.741669",
   "environment_variables": {},
   "exception": null,
   "input_path": "__notebook__.ipynb",
   "output_path": "__notebook__.ipynb",
   "parameters": {},
   "start_time": "2025-05-20T02:46:23.959096",
   "version": "2.6.0"
  }
 },
 "nbformat": 4,
 "nbformat_minor": 5
}
